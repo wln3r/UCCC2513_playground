{
 "cells": [
  {
   "cell_type": "code",
   "execution_count": 1,
   "metadata": {},
   "outputs": [
    {
     "data": {
      "text/plain": [
       "True"
      ]
     },
     "execution_count": 1,
     "metadata": {},
     "output_type": "execute_result"
    }
   ],
   "source": [
    "import sys\n",
    "# Python 3.7 is required\n",
    "assert sys.version_info >= (3,7)\n",
    "\n",
    "import cv2 as cv\n",
    "import numpy as np\n",
    "\n",
    "# For reproducibility,\n",
    "np.random.seed(99)\n",
    "\n",
    "# Make sure that optimization is enabled\n",
    "if not cv.useOptimized():\n",
    "    cv.setUseOptimized(True)\n",
    "\n",
    "cv.useOptimized()"
   ]
  },
  {
   "cell_type": "code",
   "execution_count": 11,
   "metadata": {},
   "outputs": [],
   "source": [
    "#week5.act1\n",
    "def crop_grid(img, num_horizontal_grid, num_vertical_grid, line_color):\n",
    "    c_img = cv.imread(img)\n",
    "    c_img_copy = c_img.copy()\n",
    "\n",
    "    height, width = c_img.shape[:2]\n",
    "    M, N = int(height/num_horizontal_grid), int(width/num_vertical_grid)\n",
    "    x1, y1 = 0, 0\n",
    "\n",
    "    for y in range(0, height, M):\n",
    "        for x in range(0, width, N):\n",
    "            if (height - y) < M or (width - x) < N:\n",
    "                break\n",
    "\n",
    "            y1 = y + M\n",
    "            x1 = x + N\n",
    "\n",
    "            if x1 >= width and y1 >= height:\n",
    "                x1 = width - 1\n",
    "                y1 = height - 1\n",
    "                cv.rectangle(c_img_copy, (x, y), (x1, y1), line_color, 1)  \n",
    "\n",
    "            elif y1 >= height:\n",
    "                y1 = height - 1\n",
    "                cv.rectangle(c_img_copy, (x, y), (x1, y1), line_color, 1)\n",
    "\n",
    "            elif x1 >= width:\n",
    "                x1 = width - 1\n",
    "                cv.rectangle(c_img_copy, (x, y), (x1, y1), line_color, 1)\n",
    "\n",
    "            else:\n",
    "                cv.rectangle(c_img_copy, (x, y), (x1, y1), line_color, 1)\n",
    "\n",
    "    cv.imshow('patched image', c_img_copy)\n",
    "    cv.waitKey(0)\n",
    "    cv.destroyAllWindows()"
   ]
  },
  {
   "cell_type": "code",
   "execution_count": 12,
   "metadata": {},
   "outputs": [],
   "source": [
    "#week5.act1 test run\n",
    "crop_grid('dog.jfif', 3, 3, (255, 0, 0))"
   ]
  },
  {
   "cell_type": "code",
   "execution_count": 8,
   "metadata": {},
   "outputs": [],
   "source": [
    "#week5.act2\n",
    "img1 = cv.imread('lena.jfif')\n",
    "img2 = cv.imread('coins.jfif')\n",
    "\n",
    "img_shape = img1.shape[:2]\n",
    "img2 = cv.resize(img2, img_shape)\n",
    "\n",
    "fourcc = cv.VideoWriter_fourcc('M', 'J', 'P', 'G')\n",
    "out = cv.VideoWriter('transition.avi', fourcc, 24, img_shape)\n",
    "\n",
    "for i in range(0, 100, 1):\n",
    "    dst = cv.addWeighted(img1, 1 - (0.01 * i), img2, (0.01 * i), 0)\n",
    "    out.write(dst)\n",
    "\n",
    "out.release()\n",
    "cv.destroyAllWindows()"
   ]
  },
  {
   "cell_type": "code",
   "execution_count": 13,
   "metadata": {},
   "outputs": [],
   "source": [
    "#week5.act3\n",
    "import imutils as imu\n",
    "\n",
    "img = cv.imread('lena.jfif')\n",
    "\n",
    "rot45_img = imu.rotate_bound(img, 45)\n",
    "\n",
    "cv.imshow('rotated image', rot45_img)\n",
    "cv.waitKey(0)\n",
    "cv.destroyAllWindows()"
   ]
  },
  {
   "cell_type": "code",
   "execution_count": 63,
   "metadata": {},
   "outputs": [],
   "source": [
    "#week5.act4\n",
    "img = cv.imread('native-bee.png')\n",
    "img_overlay = cv.imread('flower.jfif')\n",
    "\n",
    "img_stack = img.copy()\n",
    "img_stack[36:120, 90:177] = img_overlay[36:120, 90:177]\n",
    "\n",
    "img_bnf = cv.bitwise_or(img_stack, img)\n",
    "\n",
    "cv.imshow('image', img_bnf)\n",
    "cv.waitKey(0)\n",
    "cv.destroyAllWindows()"
   ]
  }
 ],
 "metadata": {
  "kernelspec": {
   "display_name": "Python 3.10.5 64-bit",
   "language": "python",
   "name": "python3"
  },
  "language_info": {
   "codemirror_mode": {
    "name": "ipython",
    "version": 3
   },
   "file_extension": ".py",
   "mimetype": "text/x-python",
   "name": "python",
   "nbconvert_exporter": "python",
   "pygments_lexer": "ipython3",
   "version": "3.10.5"
  },
  "orig_nbformat": 4,
  "vscode": {
   "interpreter": {
    "hash": "80e32e374c189c2ec5ae853241f1f00f1ade7038ddb38ea876eb647ad9a32828"
   }
  }
 },
 "nbformat": 4,
 "nbformat_minor": 2
}
