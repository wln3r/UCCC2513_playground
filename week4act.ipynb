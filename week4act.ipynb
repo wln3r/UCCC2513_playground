{
 "cells": [
  {
   "cell_type": "code",
   "execution_count": 1,
   "metadata": {},
   "outputs": [
    {
     "data": {
      "text/plain": [
       "True"
      ]
     },
     "execution_count": 1,
     "metadata": {},
     "output_type": "execute_result"
    }
   ],
   "source": [
    "import sys\n",
    "# Python 3.7 is required\n",
    "assert sys.version_info >= (3,7)\n",
    "\n",
    "import cv2 as cv\n",
    "import numpy as np\n",
    "\n",
    "# For reproducibility,\n",
    "np.random.seed(99)\n",
    "\n",
    "# Make sure that optimization is enabled\n",
    "if not cv.useOptimized():\n",
    "    cv.setUseOptimized(True)\n",
    "\n",
    "cv.useOptimized()"
   ]
  },
  {
   "cell_type": "code",
   "execution_count": 2,
   "metadata": {},
   "outputs": [],
   "source": [
    "#week4.act1\n",
    "img1 = cv.imread('lena.jpg', 1)\n",
    "img1_gray = cv.cvtColor(img1, cv.COLOR_RGB2GRAY)\n",
    "img2 = cv.cvtColor(img1_gray, cv.COLOR_GRAY2RGB)\n",
    "\n",
    "img_conc = np.concatenate((img1, img2), axis=1)\n",
    "cv.imshow('Combined Image', img_conc)\n",
    "cv.waitKey(0)\n",
    "cv.destroyAllWindows()"
   ]
  },
  {
   "cell_type": "code",
   "execution_count": 3,
   "metadata": {},
   "outputs": [
    {
     "name": "stdout",
     "output_type": "stream",
     "text": [
      "Can't receive frame (streaming end)\n"
     ]
    }
   ],
   "source": [
    "#week4.act2\n",
    "vid1 = cv.VideoCapture('img_pexels.mp4')\n",
    "\n",
    "width = int(vid1.get(3))\n",
    "height = int(vid1.get(4))\n",
    "fourcc = cv.VideoWriter_fourcc('M', 'J', 'P', 'G')\n",
    "fps = 30\n",
    "vid1_s = cv.VideoWriter('smaller_img_pexels.avi', fourcc, fps, (width, height))\n",
    "\n",
    "while vid1.isOpened():\n",
    "    ret, frame = vid1.read()\n",
    "    if not ret:\n",
    "        print(\"Can't receive frame (streaming end)\")\n",
    "        break\n",
    "    # Horizontal flip (left and right)\n",
    "    frame = cv.flip(frame, 1)\n",
    "    # write the flipped frame\n",
    "    vid1_s.write(frame)\n",
    "    \n",
    "    cv.imshow('frame', frame)\n",
    "    if cv.waitKey(1) & 0xFF == 27:\n",
    "        break\n",
    "\n",
    "vid1.release()\n",
    "vid1_s.release()\n",
    "cv.destroyAllWindows()"
   ]
  },
  {
   "cell_type": "code",
   "execution_count": 4,
   "metadata": {},
   "outputs": [],
   "source": [
    "#week4.act3\n",
    "img_noise = cv.randn(np.zeros((600, 450), dtype=np.uint8), 128, 30)\n",
    "\n",
    "img_noise_stack = np.stack((img_noise, img_noise, img_noise))\n",
    "img_noise_rgb = img_noise_stack.reshape((600, 450, 3))\n",
    "\n",
    "cv.imshow('Noise Grayscale', img_noise)\n",
    "cv.imshow('Noise Color', img_noise_rgb)\n",
    "cv.waitKey(0)\n",
    "cv.destroyAllWindows()"
   ]
  }
 ],
 "metadata": {
  "kernelspec": {
   "display_name": "Python 3 (ipykernel)",
   "language": "python",
   "name": "python3"
  },
  "language_info": {
   "codemirror_mode": {
    "name": "ipython",
    "version": 3
   },
   "file_extension": ".py",
   "mimetype": "text/x-python",
   "name": "python",
   "nbconvert_exporter": "python",
   "pygments_lexer": "ipython3",
   "version": "3.10.5"
  },
  "vscode": {
   "interpreter": {
    "hash": "80e32e374c189c2ec5ae853241f1f00f1ade7038ddb38ea876eb647ad9a32828"
   }
  }
 },
 "nbformat": 4,
 "nbformat_minor": 2
}
